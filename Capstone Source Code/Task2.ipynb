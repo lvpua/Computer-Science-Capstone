{
 "cells": [
  {
   "cell_type": "code",
   "execution_count": 1,
   "id": "2a4ebf3b-c7f6-4729-a38e-d932ae376b9b",
   "metadata": {},
   "outputs": [
    {
     "ename": "ModuleNotFoundError",
     "evalue": "No module named 'pandas_datareader'",
     "output_type": "error",
     "traceback": [
      "\u001b[0;31m---------------------------------------------------------------------------\u001b[0m",
      "\u001b[0;31mModuleNotFoundError\u001b[0m                       Traceback (most recent call last)",
      "\u001b[0;32m<ipython-input-1-a9ddc18f067d>\u001b[0m in \u001b[0;36m<module>\u001b[0;34m\u001b[0m\n\u001b[1;32m      2\u001b[0m \u001b[0;32mimport\u001b[0m \u001b[0mpandas\u001b[0m \u001b[0;32mas\u001b[0m \u001b[0mpd\u001b[0m\u001b[0;34m\u001b[0m\u001b[0;34m\u001b[0m\u001b[0m\n\u001b[1;32m      3\u001b[0m \u001b[0;32mimport\u001b[0m \u001b[0mmatplotlib\u001b[0m\u001b[0;34m.\u001b[0m\u001b[0mpyplot\u001b[0m \u001b[0;32mas\u001b[0m \u001b[0mplt\u001b[0m\u001b[0;34m\u001b[0m\u001b[0;34m\u001b[0m\u001b[0m\n\u001b[0;32m----> 4\u001b[0;31m \u001b[0;32mimport\u001b[0m \u001b[0mpandas_datareader\u001b[0m \u001b[0;32mas\u001b[0m \u001b[0mdata\u001b[0m\u001b[0;34m\u001b[0m\u001b[0;34m\u001b[0m\u001b[0m\n\u001b[0m",
      "\u001b[0;31mModuleNotFoundError\u001b[0m: No module named 'pandas_datareader'"
     ]
    }
   ],
   "source": [
    "import numpy as np\n",
    "import pandas as pd\n",
    "import matplotlib.pyplot as plt\n",
    "import pandas_datareader as data"
   ]
  },
  {
   "cell_type": "code",
   "execution_count": 2,
   "id": "297d0e89-20d8-45f7-9f74-971064a3349c",
   "metadata": {},
   "outputs": [
    {
     "name": "stdout",
     "output_type": "stream",
     "text": [
      "Collecting pandas_datareader\n",
      "  Downloading pandas_datareader-0.10.0-py3-none-any.whl (109 kB)\n",
      "     |████████████████████████████████| 109 kB 4.8 MB/s            \n",
      "\u001b[?25hRequirement already satisfied: pandas>=0.23 in /srv/conda/envs/notebook/lib/python3.6/site-packages (from pandas_datareader) (1.1.5)\n",
      "Collecting lxml\n",
      "  Downloading lxml-4.7.1-cp36-cp36m-manylinux_2_17_x86_64.manylinux2014_x86_64.manylinux_2_24_x86_64.whl (6.4 MB)\n",
      "     |████████████████████████████████| 6.4 MB 28.2 MB/s            \n",
      "\u001b[?25hRequirement already satisfied: requests>=2.19.0 in /srv/conda/envs/notebook/lib/python3.6/site-packages (from pandas_datareader) (2.26.0)\n",
      "Requirement already satisfied: python-dateutil>=2.7.3 in /srv/conda/envs/notebook/lib/python3.6/site-packages (from pandas>=0.23->pandas_datareader) (2.8.2)\n",
      "Requirement already satisfied: pytz>=2017.2 in /srv/conda/envs/notebook/lib/python3.6/site-packages (from pandas>=0.23->pandas_datareader) (2021.3)\n",
      "Requirement already satisfied: numpy>=1.15.4 in /srv/conda/envs/notebook/lib/python3.6/site-packages (from pandas>=0.23->pandas_datareader) (1.19.5)\n",
      "Requirement already satisfied: certifi>=2017.4.17 in /srv/conda/envs/notebook/lib/python3.6/site-packages (from requests>=2.19.0->pandas_datareader) (2021.5.30)\n",
      "Requirement already satisfied: charset-normalizer~=2.0.0 in /srv/conda/envs/notebook/lib/python3.6/site-packages (from requests>=2.19.0->pandas_datareader) (2.0.0)\n",
      "Requirement already satisfied: urllib3<1.27,>=1.21.1 in /srv/conda/envs/notebook/lib/python3.6/site-packages (from requests>=2.19.0->pandas_datareader) (1.26.7)\n",
      "Requirement already satisfied: idna<4,>=2.5 in /srv/conda/envs/notebook/lib/python3.6/site-packages (from requests>=2.19.0->pandas_datareader) (3.1)\n",
      "Requirement already satisfied: six>=1.5 in /srv/conda/envs/notebook/lib/python3.6/site-packages (from python-dateutil>=2.7.3->pandas>=0.23->pandas_datareader) (1.15.0)\n",
      "Installing collected packages: lxml, pandas-datareader\n",
      "Successfully installed lxml-4.7.1 pandas-datareader-0.10.0\n",
      "Note: you may need to restart the kernel to use updated packages.\n"
     ]
    }
   ],
   "source": [
    "pip install pandas_datareader"
   ]
  },
  {
   "cell_type": "code",
   "execution_count": 3,
   "id": "4b1f00aa-bc86-4ebc-8f87-8b371d7a08ae",
   "metadata": {},
   "outputs": [
    {
     "name": "stdout",
     "output_type": "stream",
     "text": [
      "Requirement already satisfied: keras==2.6.0 in /srv/conda/envs/notebook/lib/python3.6/site-packages (2.6.0)\n",
      "Note: you may need to restart the kernel to use updated packages.\n"
     ]
    }
   ],
   "source": [
    "pip install keras==2.6.0"
   ]
  },
  {
   "cell_type": "code",
   "execution_count": 4,
   "id": "bcbbaf14-16bb-4b5a-9236-2851480ab74a",
   "metadata": {},
   "outputs": [],
   "source": [
    "#Machine Learning model\n",
    "from keras.layers import Dense, Dropout, LSTM\n",
    "from keras.models import Sequential"
   ]
  },
  {
   "cell_type": "code",
   "execution_count": 5,
   "id": "cf6556ba-0193-45c2-9982-e36f5a55994e",
   "metadata": {},
   "outputs": [],
   "source": [
    "import numpy as np\n",
    "import pandas as pd\n",
    "import matplotlib.pyplot as plt\n",
    "import pandas_datareader as data"
   ]
  },
  {
   "cell_type": "code",
   "execution_count": 6,
   "id": "1bbbd129-06fc-4e29-af03-53c926d4129a",
   "metadata": {},
   "outputs": [
    {
     "data": {
      "text/html": [
       "<div>\n",
       "<style scoped>\n",
       "    .dataframe tbody tr th:only-of-type {\n",
       "        vertical-align: middle;\n",
       "    }\n",
       "\n",
       "    .dataframe tbody tr th {\n",
       "        vertical-align: top;\n",
       "    }\n",
       "\n",
       "    .dataframe thead th {\n",
       "        text-align: right;\n",
       "    }\n",
       "</style>\n",
       "<table border=\"1\" class=\"dataframe\">\n",
       "  <thead>\n",
       "    <tr style=\"text-align: right;\">\n",
       "      <th></th>\n",
       "      <th>High</th>\n",
       "      <th>Low</th>\n",
       "      <th>Open</th>\n",
       "      <th>Close</th>\n",
       "      <th>Volume</th>\n",
       "      <th>Adj Close</th>\n",
       "    </tr>\n",
       "    <tr>\n",
       "      <th>Date</th>\n",
       "      <th></th>\n",
       "      <th></th>\n",
       "      <th></th>\n",
       "      <th></th>\n",
       "      <th></th>\n",
       "      <th></th>\n",
       "    </tr>\n",
       "  </thead>\n",
       "  <tbody>\n",
       "    <tr>\n",
       "      <th>2014-01-02</th>\n",
       "      <td>19.893929</td>\n",
       "      <td>19.715000</td>\n",
       "      <td>19.845715</td>\n",
       "      <td>19.754642</td>\n",
       "      <td>234684800.0</td>\n",
       "      <td>17.516609</td>\n",
       "    </tr>\n",
       "    <tr>\n",
       "      <th>2014-01-03</th>\n",
       "      <td>19.775000</td>\n",
       "      <td>19.301071</td>\n",
       "      <td>19.745001</td>\n",
       "      <td>19.320715</td>\n",
       "      <td>392467600.0</td>\n",
       "      <td>17.131842</td>\n",
       "    </tr>\n",
       "    <tr>\n",
       "      <th>2014-01-06</th>\n",
       "      <td>19.528570</td>\n",
       "      <td>19.057142</td>\n",
       "      <td>19.194643</td>\n",
       "      <td>19.426071</td>\n",
       "      <td>412610800.0</td>\n",
       "      <td>17.225262</td>\n",
       "    </tr>\n",
       "    <tr>\n",
       "      <th>2014-01-07</th>\n",
       "      <td>19.498571</td>\n",
       "      <td>19.211430</td>\n",
       "      <td>19.440001</td>\n",
       "      <td>19.287144</td>\n",
       "      <td>317209200.0</td>\n",
       "      <td>17.102076</td>\n",
       "    </tr>\n",
       "    <tr>\n",
       "      <th>2014-01-08</th>\n",
       "      <td>19.484285</td>\n",
       "      <td>19.238930</td>\n",
       "      <td>19.243214</td>\n",
       "      <td>19.409286</td>\n",
       "      <td>258529600.0</td>\n",
       "      <td>17.210379</td>\n",
       "    </tr>\n",
       "  </tbody>\n",
       "</table>\n",
       "</div>"
      ],
      "text/plain": [
       "                 High        Low       Open      Close       Volume  Adj Close\n",
       "Date                                                                          \n",
       "2014-01-02  19.893929  19.715000  19.845715  19.754642  234684800.0  17.516609\n",
       "2014-01-03  19.775000  19.301071  19.745001  19.320715  392467600.0  17.131842\n",
       "2014-01-06  19.528570  19.057142  19.194643  19.426071  412610800.0  17.225262\n",
       "2014-01-07  19.498571  19.211430  19.440001  19.287144  317209200.0  17.102076\n",
       "2014-01-08  19.484285  19.238930  19.243214  19.409286  258529600.0  17.210379"
      ]
     },
     "execution_count": 6,
     "metadata": {},
     "output_type": "execute_result"
    }
   ],
   "source": [
    "start = '2014-01-01'\n",
    "end = '2021-12-31'\n",
    "\n",
    "df = data.DataReader('AAPL', 'yahoo', start, end)\n",
    "df.head()"
   ]
  },
  {
   "cell_type": "code",
   "execution_count": 7,
   "id": "da834d89-3c6b-4044-94a8-ffc6abaf3dcb",
   "metadata": {},
   "outputs": [
    {
     "data": {
      "text/html": [
       "<div>\n",
       "<style scoped>\n",
       "    .dataframe tbody tr th:only-of-type {\n",
       "        vertical-align: middle;\n",
       "    }\n",
       "\n",
       "    .dataframe tbody tr th {\n",
       "        vertical-align: top;\n",
       "    }\n",
       "\n",
       "    .dataframe thead th {\n",
       "        text-align: right;\n",
       "    }\n",
       "</style>\n",
       "<table border=\"1\" class=\"dataframe\">\n",
       "  <thead>\n",
       "    <tr style=\"text-align: right;\">\n",
       "      <th></th>\n",
       "      <th>Date</th>\n",
       "      <th>High</th>\n",
       "      <th>Low</th>\n",
       "      <th>Open</th>\n",
       "      <th>Close</th>\n",
       "      <th>Volume</th>\n",
       "      <th>Adj Close</th>\n",
       "    </tr>\n",
       "  </thead>\n",
       "  <tbody>\n",
       "    <tr>\n",
       "      <th>0</th>\n",
       "      <td>2014-01-02</td>\n",
       "      <td>19.893929</td>\n",
       "      <td>19.715000</td>\n",
       "      <td>19.845715</td>\n",
       "      <td>19.754642</td>\n",
       "      <td>234684800.0</td>\n",
       "      <td>17.516609</td>\n",
       "    </tr>\n",
       "    <tr>\n",
       "      <th>1</th>\n",
       "      <td>2014-01-03</td>\n",
       "      <td>19.775000</td>\n",
       "      <td>19.301071</td>\n",
       "      <td>19.745001</td>\n",
       "      <td>19.320715</td>\n",
       "      <td>392467600.0</td>\n",
       "      <td>17.131842</td>\n",
       "    </tr>\n",
       "    <tr>\n",
       "      <th>2</th>\n",
       "      <td>2014-01-06</td>\n",
       "      <td>19.528570</td>\n",
       "      <td>19.057142</td>\n",
       "      <td>19.194643</td>\n",
       "      <td>19.426071</td>\n",
       "      <td>412610800.0</td>\n",
       "      <td>17.225262</td>\n",
       "    </tr>\n",
       "    <tr>\n",
       "      <th>3</th>\n",
       "      <td>2014-01-07</td>\n",
       "      <td>19.498571</td>\n",
       "      <td>19.211430</td>\n",
       "      <td>19.440001</td>\n",
       "      <td>19.287144</td>\n",
       "      <td>317209200.0</td>\n",
       "      <td>17.102076</td>\n",
       "    </tr>\n",
       "    <tr>\n",
       "      <th>4</th>\n",
       "      <td>2014-01-08</td>\n",
       "      <td>19.484285</td>\n",
       "      <td>19.238930</td>\n",
       "      <td>19.243214</td>\n",
       "      <td>19.409286</td>\n",
       "      <td>258529600.0</td>\n",
       "      <td>17.210379</td>\n",
       "    </tr>\n",
       "  </tbody>\n",
       "</table>\n",
       "</div>"
      ],
      "text/plain": [
       "        Date       High        Low       Open      Close       Volume  \\\n",
       "0 2014-01-02  19.893929  19.715000  19.845715  19.754642  234684800.0   \n",
       "1 2014-01-03  19.775000  19.301071  19.745001  19.320715  392467600.0   \n",
       "2 2014-01-06  19.528570  19.057142  19.194643  19.426071  412610800.0   \n",
       "3 2014-01-07  19.498571  19.211430  19.440001  19.287144  317209200.0   \n",
       "4 2014-01-08  19.484285  19.238930  19.243214  19.409286  258529600.0   \n",
       "\n",
       "   Adj Close  \n",
       "0  17.516609  \n",
       "1  17.131842  \n",
       "2  17.225262  \n",
       "3  17.102076  \n",
       "4  17.210379  "
      ]
     },
     "execution_count": 7,
     "metadata": {},
     "output_type": "execute_result"
    }
   ],
   "source": [
    "df = df.reset_index()\n",
    "df.head()"
   ]
  },
  {
   "cell_type": "code",
   "execution_count": 8,
   "id": "0452ebb0-e97e-43d2-a8db-490cf7462fee",
   "metadata": {},
   "outputs": [
    {
     "data": {
      "text/html": [
       "<div>\n",
       "<style scoped>\n",
       "    .dataframe tbody tr th:only-of-type {\n",
       "        vertical-align: middle;\n",
       "    }\n",
       "\n",
       "    .dataframe tbody tr th {\n",
       "        vertical-align: top;\n",
       "    }\n",
       "\n",
       "    .dataframe thead th {\n",
       "        text-align: right;\n",
       "    }\n",
       "</style>\n",
       "<table border=\"1\" class=\"dataframe\">\n",
       "  <thead>\n",
       "    <tr style=\"text-align: right;\">\n",
       "      <th></th>\n",
       "      <th>High</th>\n",
       "      <th>Low</th>\n",
       "      <th>Open</th>\n",
       "      <th>Close</th>\n",
       "      <th>Volume</th>\n",
       "    </tr>\n",
       "  </thead>\n",
       "  <tbody>\n",
       "    <tr>\n",
       "      <th>0</th>\n",
       "      <td>19.893929</td>\n",
       "      <td>19.715000</td>\n",
       "      <td>19.845715</td>\n",
       "      <td>19.754642</td>\n",
       "      <td>234684800.0</td>\n",
       "    </tr>\n",
       "    <tr>\n",
       "      <th>1</th>\n",
       "      <td>19.775000</td>\n",
       "      <td>19.301071</td>\n",
       "      <td>19.745001</td>\n",
       "      <td>19.320715</td>\n",
       "      <td>392467600.0</td>\n",
       "    </tr>\n",
       "    <tr>\n",
       "      <th>2</th>\n",
       "      <td>19.528570</td>\n",
       "      <td>19.057142</td>\n",
       "      <td>19.194643</td>\n",
       "      <td>19.426071</td>\n",
       "      <td>412610800.0</td>\n",
       "    </tr>\n",
       "    <tr>\n",
       "      <th>3</th>\n",
       "      <td>19.498571</td>\n",
       "      <td>19.211430</td>\n",
       "      <td>19.440001</td>\n",
       "      <td>19.287144</td>\n",
       "      <td>317209200.0</td>\n",
       "    </tr>\n",
       "    <tr>\n",
       "      <th>4</th>\n",
       "      <td>19.484285</td>\n",
       "      <td>19.238930</td>\n",
       "      <td>19.243214</td>\n",
       "      <td>19.409286</td>\n",
       "      <td>258529600.0</td>\n",
       "    </tr>\n",
       "  </tbody>\n",
       "</table>\n",
       "</div>"
      ],
      "text/plain": [
       "        High        Low       Open      Close       Volume\n",
       "0  19.893929  19.715000  19.845715  19.754642  234684800.0\n",
       "1  19.775000  19.301071  19.745001  19.320715  392467600.0\n",
       "2  19.528570  19.057142  19.194643  19.426071  412610800.0\n",
       "3  19.498571  19.211430  19.440001  19.287144  317209200.0\n",
       "4  19.484285  19.238930  19.243214  19.409286  258529600.0"
      ]
     },
     "execution_count": 8,
     "metadata": {},
     "output_type": "execute_result"
    }
   ],
   "source": [
    "df = df.drop(['Date', 'Adj Close'], axis = 1)\n",
    "df.head()"
   ]
  },
  {
   "cell_type": "code",
   "execution_count": 9,
   "id": "11773db9-e8dd-4a2c-89f4-2e4f90c2a34c",
   "metadata": {},
   "outputs": [
    {
     "data": {
      "text/plain": [
       "0            NaN\n",
       "1            NaN\n",
       "2            NaN\n",
       "3            NaN\n",
       "4            NaN\n",
       "          ...   \n",
       "2010    153.3444\n",
       "2011    153.6667\n",
       "2012    153.9991\n",
       "2013    154.3202\n",
       "2014    154.6399\n",
       "Name: Close, Length: 2015, dtype: float64"
      ]
     },
     "execution_count": 9,
     "metadata": {},
     "output_type": "execute_result"
    }
   ],
   "source": [
    "ma100 = df.Close.rolling(100).mean()\n",
    "ma100"
   ]
  },
  {
   "cell_type": "code",
   "execution_count": 10,
   "id": "9670fd79-1630-47cc-9efd-b03a2d8bfa37",
   "metadata": {},
   "outputs": [
    {
     "data": {
      "text/plain": [
       "[<matplotlib.lines.Line2D at 0x7f5023e97ba8>]"
      ]
     },
     "execution_count": 10,
     "metadata": {},
     "output_type": "execute_result"
    },
    {
     "data": {
      "image/png": "[encoded data removed]",
      "text/plain": [
       "<Figure size 720x360 with 1 Axes>"
      ]
     },
     "metadata": {
      "needs_background": "light"
     },
     "output_type": "display_data"
    }
   ],
   "source": [
    "plt.figure(figsize = (10,5))\n",
    "plt.plot(df.Close)\n",
    "plt.plot(ma100, 'r')"
   ]
  },
  {
   "cell_type": "code",
   "execution_count": 11,
   "id": "2e40e970-bf95-44e0-8cd0-91985c8bcea1",
   "metadata": {},
   "outputs": [
    {
     "data": {
      "text/plain": [
       "0             NaN\n",
       "1             NaN\n",
       "2             NaN\n",
       "3             NaN\n",
       "4             NaN\n",
       "          ...    \n",
       "2010    142.85570\n",
       "2011    143.13220\n",
       "2012    143.40125\n",
       "2013    143.66845\n",
       "2014    143.95365\n",
       "Name: Close, Length: 2015, dtype: float64"
      ]
     },
     "execution_count": 11,
     "metadata": {},
     "output_type": "execute_result"
    }
   ],
   "source": [
    "ma200 = df.Close.rolling(200).mean()\n",
    "ma200"
   ]
  },
  {
   "cell_type": "code",
   "execution_count": 12,
   "id": "29bb1698-1d62-402a-a10e-e379eac6946d",
   "metadata": {},
   "outputs": [
    {
     "data": {
      "text/plain": [
       "[<matplotlib.lines.Line2D at 0x7f50240e6630>]"
      ]
     },
     "execution_count": 12,
     "metadata": {},
     "output_type": "execute_result"
    },
    {
     "data": {
      "image/png": "[encoded data removed]",
      "text/plain": [
       "<Figure size 720x360 with 1 Axes>"
      ]
     },
     "metadata": {
      "needs_background": "light"
     },
     "output_type": "display_data"
    }
   ],
   "source": [
    "plt.figure(figsize = (10,5))\n",
    "plt.plot(df.Close)\n",
    "plt.plot(ma100, 'r')\n",
    "plt.plot(ma200, 'g')"
   ]
  },
  {
   "cell_type": "code",
   "execution_count": 13,
   "id": "cde3b14c-deef-4021-b962-954297a501d1",
   "metadata": {},
   "outputs": [
    {
     "data": {
      "text/plain": [
       "(2015, 5)"
      ]
     },
     "execution_count": 13,
     "metadata": {},
     "output_type": "execute_result"
    }
   ],
   "source": [
    "df.shape"
   ]
  },
  {
   "cell_type": "code",
   "execution_count": 14,
   "id": "6ddcaffc-dce6-4c56-94b7-6d56ff3faddd",
   "metadata": {},
   "outputs": [
    {
     "name": "stdout",
     "output_type": "stream",
     "text": [
      "(1511, 1)\n",
      "(504, 1)\n"
     ]
    }
   ],
   "source": [
    "# Splitting the Data into Training and Testing\n",
    "#75% for training and 25% for testing\n",
    "\n",
    "data_training = pd.DataFrame(df['Close'][0:int(len(df)*0.75)])\n",
    "data_testing = pd.DataFrame(df['Close'][int(len(df)*0.75): int(len(df))])\n",
    "\n",
    "print(data_training.shape)\n",
    "print(data_testing.shape)"
   ]
  },
  {
   "cell_type": "code",
   "execution_count": 15,
   "id": "d7a5927b-d4f5-4e23-b90c-08f0854715d6",
   "metadata": {},
   "outputs": [],
   "source": [
    "from sklearn.preprocessing import MinMaxScaler\n",
    "scaler = MinMaxScaler(feature_range=(0,1))"
   ]
  },
  {
   "cell_type": "code",
   "execution_count": 16,
   "id": "0694ece0-060a-4f12-8457-bd17a6929e5c",
   "metadata": {},
   "outputs": [
    {
     "data": {
      "text/plain": [
       "array([[0.0332882 ],\n",
       "       [0.02570712],\n",
       "       [0.02754778],\n",
       "       ...,\n",
       "       [0.96143304],\n",
       "       [0.97073628],\n",
       "       [1.        ]])"
      ]
     },
     "execution_count": 16,
     "metadata": {},
     "output_type": "execute_result"
    }
   ],
   "source": [
    "data_training_array = scaler.fit_transform(data_training)\n",
    "data_training_array"
   ]
  },
  {
   "cell_type": "code",
   "execution_count": 17,
   "id": "efe48508-76c4-4ac1-ac91-2ef7d4d294cf",
   "metadata": {},
   "outputs": [],
   "source": [
    "#empty array for training\n",
    "#x train is the data we already have\n",
    "# the predicted value will go into y_train\n",
    "x_train = []\n",
    "y_train = []\n",
    "\n",
    "#insert value on the list/array\n",
    "for i in range(100, data_training.shape[0]):\n",
    "    x_train.append(data_training_array[i-100: i])\n",
    "    y_train.append(data_training_array[i, 0])\n",
    "    \n",
    "x_train, y_train = np.array(x_train), np.array(y_train)"
   ]
  },
  {
   "cell_type": "code",
   "execution_count": 18,
   "id": "6c515a9c-2d62-4e99-9362-1ebed87872a1",
   "metadata": {},
   "outputs": [
    {
     "data": {
      "text/plain": [
       "(1411, 100, 1)"
      ]
     },
     "execution_count": 18,
     "metadata": {},
     "output_type": "execute_result"
    }
   ],
   "source": [
    "x_train.shape"
   ]
  },
  {
   "cell_type": "code",
   "execution_count": 20,
   "id": "406441b1-bc3c-4348-a898-06b1c70be3a1",
   "metadata": {},
   "outputs": [],
   "source": [
    "model = Sequential()\n",
    "model.add(LSTM(units = 50, activation = 'relu', return_sequences = True, input_shape = (x_train.shape[1], 1))) #closing price column\n",
    "model.add(Dropout(0.2))\n",
    "\n",
    "model.add(LSTM(units = 60, activation = 'relu', return_sequences = True)) \n",
    "model.add(Dropout(0.3))\n",
    "\n",
    "model.add(LSTM(units = 80, activation = 'relu', return_sequences = True)) \n",
    "model.add(Dropout(0.4))\n",
    "\n",
    "model.add(LSTM(units = 120, activation = 'relu')) \n",
    "model.add(Dropout(0.5))\n",
    "\n",
    "model.add(Dense(units = 1))"
   ]
  },
  {
   "cell_type": "code",
   "execution_count": 21,
   "id": "9e8864ec-36d4-4521-86d2-a83e60bab114",
   "metadata": {},
   "outputs": [
    {
     "name": "stdout",
     "output_type": "stream",
     "text": [
      "Model: \"sequential\"\n",
      "_________________________________________________________________\n",
      "Layer (type)                 Output Shape              Param #   \n",
      "=================================================================\n",
      "lstm (LSTM)                  (None, 100, 50)           10400     \n",
      "_________________________________________________________________\n",
      "dropout (Dropout)            (None, 100, 50)           0         \n",
      "_________________________________________________________________\n",
      "lstm_1 (LSTM)                (None, 100, 60)           26640     \n",
      "_________________________________________________________________\n",
      "dropout_1 (Dropout)          (None, 100, 60)           0         \n",
      "_________________________________________________________________\n",
      "lstm_2 (LSTM)                (None, 100, 80)           45120     \n",
      "_________________________________________________________________\n",
      "dropout_2 (Dropout)          (None, 100, 80)           0         \n",
      "_________________________________________________________________\n",
      "lstm_3 (LSTM)                (None, 120)               96480     \n",
      "_________________________________________________________________\n",
      "dropout_3 (Dropout)          (None, 120)               0         \n",
      "_________________________________________________________________\n",
      "dense (Dense)                (None, 1)                 121       \n",
      "=================================================================\n",
      "Total params: 178,761\n",
      "Trainable params: 178,761\n",
      "Non-trainable params: 0\n",
      "_________________________________________________________________\n"
     ]
    }
   ],
   "source": [
    "model.summary()"
   ]
  },
  {
   "cell_type": "code",
   "execution_count": 22,
   "id": "4f728eb4-739b-4230-8de1-b54ba5db73bf",
   "metadata": {},
   "outputs": [
    {
     "name": "stdout",
     "output_type": "stream",
     "text": [
      "Epoch 1/60\n",
      "45/45 [==============================] - 52s 1s/step - loss: 0.0305\n",
      "Epoch 2/60\n",
      "45/45 [==============================] - 46s 1s/step - loss: 0.0064\n",
      "Epoch 3/60\n",
      "45/45 [==============================] - 48s 1s/step - loss: 0.0055\n",
      "Epoch 4/60\n",
      "45/45 [==============================] - 45s 1s/step - loss: 0.0062\n",
      "Epoch 5/60\n",
      "45/45 [==============================] - 45s 1s/step - loss: 0.0049\n",
      "Epoch 6/60\n",
      "45/45 [==============================] - 49s 1s/step - loss: 0.0051\n",
      "Epoch 7/60\n",
      "45/45 [==============================] - 47s 1s/step - loss: 0.0047\n",
      "Epoch 8/60\n",
      "45/45 [==============================] - 45s 1s/step - loss: 0.0051\n",
      "Epoch 9/60\n",
      "45/45 [==============================] - 46s 1s/step - loss: 0.0044\n",
      "Epoch 10/60\n",
      "45/45 [==============================] - 47s 1s/step - loss: 0.0037\n",
      "Epoch 11/60\n",
      "45/45 [==============================] - 45s 991ms/step - loss: 0.0039\n",
      "Epoch 12/60\n",
      "45/45 [==============================] - 47s 1s/step - loss: 0.0036\n",
      "Epoch 13/60\n",
      "45/45 [==============================] - 46s 1s/step - loss: 0.0035\n",
      "Epoch 14/60\n",
      "45/45 [==============================] - 46s 1s/step - loss: 0.0032\n",
      "Epoch 15/60\n",
      "45/45 [==============================] - 46s 1s/step - loss: 0.0037\n",
      "Epoch 16/60\n",
      "45/45 [==============================] - 47s 1s/step - loss: 0.0033\n",
      "Epoch 17/60\n",
      "45/45 [==============================] - 46s 1s/step - loss: 0.0030\n",
      "Epoch 18/60\n",
      "45/45 [==============================] - 45s 1s/step - loss: 0.0029\n",
      "Epoch 19/60\n",
      "45/45 [==============================] - 47s 1s/step - loss: 0.0028\n",
      "Epoch 20/60\n",
      "45/45 [==============================] - 44s 991ms/step - loss: 0.0029\n",
      "Epoch 21/60\n",
      "45/45 [==============================] - 45s 996ms/step - loss: 0.0026\n",
      "Epoch 22/60\n",
      "45/45 [==============================] - 43s 957ms/step - loss: 0.0031\n",
      "Epoch 23/60\n",
      "45/45 [==============================] - 44s 973ms/step - loss: 0.0026\n",
      "Epoch 24/60\n",
      "45/45 [==============================] - 45s 998ms/step - loss: 0.0025\n",
      "Epoch 25/60\n",
      "45/45 [==============================] - 44s 989ms/step - loss: 0.0028\n",
      "Epoch 26/60\n",
      "45/45 [==============================] - 45s 1s/step - loss: 0.0024\n",
      "Epoch 27/60\n",
      "45/45 [==============================] - 46s 1s/step - loss: 0.0023\n",
      "Epoch 28/60\n",
      "45/45 [==============================] - 47s 1s/step - loss: 0.0026\n",
      "Epoch 29/60\n",
      "45/45 [==============================] - 47s 1s/step - loss: 0.0024\n",
      "Epoch 30/60\n",
      "45/45 [==============================] - 45s 999ms/step - loss: 0.0024\n",
      "Epoch 31/60\n",
      "45/45 [==============================] - 46s 1s/step - loss: 0.0023\n",
      "Epoch 32/60\n",
      "45/45 [==============================] - 45s 995ms/step - loss: 0.0021\n",
      "Epoch 33/60\n",
      "45/45 [==============================] - 45s 998ms/step - loss: 0.0022\n",
      "Epoch 34/60\n",
      "45/45 [==============================] - 45s 1s/step - loss: 0.0023\n",
      "Epoch 35/60\n",
      "45/45 [==============================] - 46s 1s/step - loss: 0.0028\n",
      "Epoch 36/60\n",
      "45/45 [==============================] - 47s 1s/step - loss: 0.0023\n",
      "Epoch 37/60\n",
      "45/45 [==============================] - 46s 1s/step - loss: 0.0022\n",
      "Epoch 38/60\n",
      "45/45 [==============================] - 46s 1s/step - loss: 0.0019\n",
      "Epoch 39/60\n",
      "45/45 [==============================] - 47s 1s/step - loss: 0.0018\n",
      "Epoch 40/60\n",
      "45/45 [==============================] - 45s 1s/step - loss: 0.0019\n",
      "Epoch 41/60\n",
      "45/45 [==============================] - 48s 1s/step - loss: 0.0019\n",
      "Epoch 42/60\n",
      "45/45 [==============================] - 46s 1s/step - loss: 0.0018\n",
      "Epoch 43/60\n",
      "45/45 [==============================] - 48s 1s/step - loss: 0.0019\n",
      "Epoch 44/60\n",
      "45/45 [==============================] - 48s 1s/step - loss: 0.0020\n",
      "Epoch 45/60\n",
      "45/45 [==============================] - 48s 1s/step - loss: 0.0019\n",
      "Epoch 46/60\n",
      "45/45 [==============================] - 47s 1s/step - loss: 0.0018\n",
      "Epoch 47/60\n",
      "45/45 [==============================] - 48s 1s/step - loss: 0.0018\n",
      "Epoch 48/60\n",
      "45/45 [==============================] - 48s 1s/step - loss: 0.0021\n",
      "Epoch 49/60\n",
      "45/45 [==============================] - 48s 1s/step - loss: 0.0022\n",
      "Epoch 50/60\n",
      "45/45 [==============================] - 47s 1s/step - loss: 0.0018\n",
      "Epoch 51/60\n",
      "45/45 [==============================] - 47s 1s/step - loss: 0.0017\n",
      "Epoch 52/60\n",
      "45/45 [==============================] - 46s 1s/step - loss: 0.0018\n",
      "Epoch 53/60\n",
      "45/45 [==============================] - 49s 1s/step - loss: 0.0019\n",
      "Epoch 54/60\n",
      "45/45 [==============================] - 49s 1s/step - loss: 0.0018\n",
      "Epoch 55/60\n",
      "45/45 [==============================] - 50s 1s/step - loss: 0.0018\n",
      "Epoch 56/60\n",
      "45/45 [==============================] - 51s 1s/step - loss: 0.0017\n",
      "Epoch 57/60\n",
      "45/45 [==============================] - 51s 1s/step - loss: 0.0015\n",
      "Epoch 58/60\n",
      "45/45 [==============================] - 50s 1s/step - loss: 0.0017\n",
      "Epoch 59/60\n",
      "45/45 [==============================] - 49s 1s/step - loss: 0.0018\n",
      "Epoch 60/60\n",
      "45/45 [==============================] - 47s 1s/step - loss: 0.0015\n"
     ]
    },
    {
     "data": {
      "text/plain": [
       "<keras.callbacks.History at 0x7f50007e9518>"
      ]
     },
     "execution_count": 22,
     "metadata": {},
     "output_type": "execute_result"
    }
   ],
   "source": [
    "model.compile(optimizer='adam', loss = 'mean_squared_error')\n",
    "model.fit(x_train, y_train, epochs = 60)"
   ]
  },
  {
   "cell_type": "code",
   "execution_count": 23,
   "id": "469bbd8e-77ef-449b-b39c-993821fbf1a1",
   "metadata": {},
   "outputs": [],
   "source": [
    "model.save('keras_model.h5')"
   ]
  },
  {
   "cell_type": "code",
   "execution_count": 24,
   "id": "9cee3d73-ba8a-461f-9815-e8f5b9c7d2c2",
   "metadata": {},
   "outputs": [
    {
     "data": {
      "text/html": [
       "<div>\n",
       "<style scoped>\n",
       "    .dataframe tbody tr th:only-of-type {\n",
       "        vertical-align: middle;\n",
       "    }\n",
       "\n",
       "    .dataframe tbody tr th {\n",
       "        vertical-align: top;\n",
       "    }\n",
       "\n",
       "    .dataframe thead th {\n",
       "        text-align: right;\n",
       "    }\n",
       "</style>\n",
       "<table border=\"1\" class=\"dataframe\">\n",
       "  <thead>\n",
       "    <tr style=\"text-align: right;\">\n",
       "      <th></th>\n",
       "      <th>Close</th>\n",
       "    </tr>\n",
       "  </thead>\n",
       "  <tbody>\n",
       "    <tr>\n",
       "      <th>1511</th>\n",
       "      <td>74.357498</td>\n",
       "    </tr>\n",
       "    <tr>\n",
       "      <th>1512</th>\n",
       "      <td>74.949997</td>\n",
       "    </tr>\n",
       "    <tr>\n",
       "      <th>1513</th>\n",
       "      <td>74.597504</td>\n",
       "    </tr>\n",
       "    <tr>\n",
       "      <th>1514</th>\n",
       "      <td>75.797501</td>\n",
       "    </tr>\n",
       "    <tr>\n",
       "      <th>1515</th>\n",
       "      <td>77.407501</td>\n",
       "    </tr>\n",
       "  </tbody>\n",
       "</table>\n",
       "</div>"
      ],
      "text/plain": [
       "          Close\n",
       "1511  74.357498\n",
       "1512  74.949997\n",
       "1513  74.597504\n",
       "1514  75.797501\n",
       "1515  77.407501"
      ]
     },
     "execution_count": 24,
     "metadata": {},
     "output_type": "execute_result"
    }
   ],
   "source": [
    "data_testing.head()"
   ]
  },
  {
   "cell_type": "code",
   "execution_count": 25,
   "id": "7fbe1423-52e1-432b-a435-49da3bdcf473",
   "metadata": {},
   "outputs": [],
   "source": [
    "past_100_days = data_training.tail(100) #data for the past 100 days"
   ]
  },
  {
   "cell_type": "code",
   "execution_count": 26,
   "id": "f9a9cde1-435c-4fef-b616-5ae0e30621d9",
   "metadata": {},
   "outputs": [],
   "source": [
    "final_df = past_100_days.append(data_testing, ignore_index=True)"
   ]
  },
  {
   "cell_type": "code",
   "execution_count": 27,
   "id": "1bcf399c-0ab7-4bc2-9c3c-8b62542351b5",
   "metadata": {},
   "outputs": [
    {
     "data": {
      "text/html": [
       "<div>\n",
       "<style scoped>\n",
       "    .dataframe tbody tr th:only-of-type {\n",
       "        vertical-align: middle;\n",
       "    }\n",
       "\n",
       "    .dataframe tbody tr th {\n",
       "        vertical-align: top;\n",
       "    }\n",
       "\n",
       "    .dataframe thead th {\n",
       "        text-align: right;\n",
       "    }\n",
       "</style>\n",
       "<table border=\"1\" class=\"dataframe\">\n",
       "  <thead>\n",
       "    <tr style=\"text-align: right;\">\n",
       "      <th></th>\n",
       "      <th>Close</th>\n",
       "    </tr>\n",
       "  </thead>\n",
       "  <tbody>\n",
       "    <tr>\n",
       "      <th>0</th>\n",
       "      <td>50.119999</td>\n",
       "    </tr>\n",
       "    <tr>\n",
       "      <th>1</th>\n",
       "      <td>52.242500</td>\n",
       "    </tr>\n",
       "    <tr>\n",
       "      <th>2</th>\n",
       "      <td>50.687500</td>\n",
       "    </tr>\n",
       "    <tr>\n",
       "      <th>3</th>\n",
       "      <td>50.435001</td>\n",
       "    </tr>\n",
       "    <tr>\n",
       "      <th>4</th>\n",
       "      <td>51.625000</td>\n",
       "    </tr>\n",
       "  </tbody>\n",
       "</table>\n",
       "</div>"
      ],
      "text/plain": [
       "       Close\n",
       "0  50.119999\n",
       "1  52.242500\n",
       "2  50.687500\n",
       "3  50.435001\n",
       "4  51.625000"
      ]
     },
     "execution_count": 27,
     "metadata": {},
     "output_type": "execute_result"
    }
   ],
   "source": [
    "final_df.head()"
   ]
  },
  {
   "cell_type": "code",
   "execution_count": 28,
   "id": "16bf1345-64c0-432d-ad01-2cca622e20d0",
   "metadata": {},
   "outputs": [],
   "source": [
    "#scaling down the data\n",
    "\n",
    "input_data = scaler.fit_transform(final_df)"
   ]
  },
  {
   "cell_type": "code",
   "execution_count": 29,
   "id": "665357ec-e453-4309-94bd-c9c835684254",
   "metadata": {},
   "outputs": [],
   "source": [
    "#Testing for the data\n",
    "x_test = []\n",
    "y_test = []\n",
    "\n",
    "for i in range(100, input_data.shape[0]):\n",
    "    x_test.append(input_data[i-100: i])\n",
    "    y_test.append(input_data[i, 0])\n"
   ]
  },
  {
   "cell_type": "code",
   "execution_count": 30,
   "id": "6227e84f-2ada-454e-ae5e-e54060b82b9d",
   "metadata": {},
   "outputs": [
    {
     "name": "stdout",
     "output_type": "stream",
     "text": [
      "(504, 100, 1)\n",
      "(504,)\n"
     ]
    }
   ],
   "source": [
    "x_test, y_test = np.array(x_test), np.array(y_test)\n",
    "print(x_test.shape)\n",
    "print(y_test.shape)"
   ]
  },
  {
   "cell_type": "code",
   "execution_count": 31,
   "id": "6cddae8a-0f66-4e57-a551-aaa988c31040",
   "metadata": {},
   "outputs": [],
   "source": [
    "#For making predictions\n",
    "\n",
    "y_predicted = model.predict(x_test)"
   ]
  },
  {
   "cell_type": "code",
   "execution_count": 32,
   "id": "c4ca2486-22c5-49e4-b11c-ba27ce7ec8af",
   "metadata": {},
   "outputs": [
    {
     "data": {
      "text/plain": [
       "(504, 1)"
      ]
     },
     "execution_count": 32,
     "metadata": {},
     "output_type": "execute_result"
    }
   ],
   "source": [
    "y_predicted.shape"
   ]
  },
  {
   "cell_type": "code",
   "execution_count": 33,
   "id": "beb3376c-694e-461d-b6fd-0a6e8e05463b",
   "metadata": {},
   "outputs": [
    {
     "data": {
      "text/plain": [
       "array([0.18614161, 0.19069194, 0.18798483, 0.19720068, 0.20956533,\n",
       "       0.21090928, 0.22363872, 0.21542123, 0.21284847, 0.22033636,\n",
       "       0.22703712, 0.22288996, 0.22505955, 0.22799711, 0.2262307 ,\n",
       "       0.20825976, 0.22504033, 0.23780815, 0.23690576, 0.20933494,\n",
       "       0.20770295, 0.22726751, 0.23225945, 0.23947852, 0.22953306,\n",
       "       0.2324514 , 0.22872665, 0.24329931, 0.23882574, 0.23897937,\n",
       "       0.22755549, 0.23642577, 0.23005143, 0.21613161, 0.18758159,\n",
       "       0.16818983, 0.17696413, 0.14023499, 0.13992779, 0.18879118,\n",
       "       0.17057064, 0.19633667, 0.17748256, 0.17001383, 0.12612322,\n",
       "       0.16292911, 0.14390215, 0.09167882, 0.1487789 , 0.08012059,\n",
       "       0.10056832, 0.08868367, 0.08505492, 0.05521851, 0.04586821,\n",
       "       0.08908688, 0.08647571, 0.11128179, 0.09073806, 0.10431227,\n",
       "       0.10331387, 0.07762462, 0.0853429 , 0.07858461, 0.11901928,\n",
       "       0.11318254, 0.12593121, 0.12961753, 0.13971662, 0.16621225,\n",
       "       0.16118193, 0.16552109, 0.15805236, 0.14678211, 0.13034713,\n",
       "       0.14518856, 0.14313417, 0.15837878, 0.1587628 , 0.14995006,\n",
       "       0.16751788, 0.17917209, 0.17009064, 0.17794333, 0.18639121,\n",
       "       0.19228555, 0.19825665, 0.21052532, 0.21989481, 0.21298288,\n",
       "       0.20576376, 0.20939254, 0.20587895, 0.21979877, 0.21630446,\n",
       "       0.22799711, 0.22342756, 0.22734432, 0.22319717, 0.22584668,\n",
       "       0.22611551, 0.22552032, 0.23302743, 0.23588818, 0.23930573,\n",
       "       0.23392982, 0.25155518, 0.25531832, 0.27553566, 0.29252745,\n",
       "       0.26000306, 0.26557098, 0.27361568, 0.29106825, 0.29012748,\n",
       "       0.29039631, 0.28653714, 0.3041049 , 0.31881192, 0.30638967,\n",
       "       0.31556715, 0.29404425, 0.30969203, 0.31549034, 0.31416555,\n",
       "       0.31416555, 0.33286615, 0.33063897, 0.34730435, 0.35045313,\n",
       "       0.35173948, 0.34834115, 0.36047541, 0.36560171, 0.35636663,\n",
       "       0.35486905, 0.37045924, 0.36003379, 0.36212656, 0.32812381,\n",
       "       0.32635741, 0.34321479, 0.33125338, 0.34498119, 0.35381309,\n",
       "       0.4311497 , 0.45171262, 0.45729975, 0.46035251, 0.4898433 ,\n",
       "       0.46841643, 0.48081945, 0.45507257, 0.48298903, 0.49834883,\n",
       "       0.49756164, 0.49525764, 0.50259196, 0.50370552, 0.52342371,\n",
       "       0.57023272, 0.58165654, 0.57372703, 0.58676368, 0.57514785,\n",
       "       0.57359267, 0.60609779, 0.64557247, 0.62422236, 0.54342982,\n",
       "       0.54404423, 0.48152983, 0.51608939, 0.48667535, 0.47523231,\n",
       "       0.50103679, 0.50241917, 0.47623068, 0.46248365, 0.43560399,\n",
       "       0.46048692, 0.47377311, 0.43775442, 0.4462023 , 0.47738268,\n",
       "       0.49796482, 0.49128328, 0.50449272, 0.51201905, 0.48306579,\n",
       "       0.50979187, 0.48414103, 0.49888643, 0.49804163, 0.51340143,\n",
       "       0.57046311, 0.54511941, 0.54581063, 0.54212425, 0.5291452 ,\n",
       "       0.50579835, 0.51754859, 0.51263346, 0.50403195, 0.49857922,\n",
       "       0.49865604, 0.51055985, 0.46908837, 0.50072959, 0.45111743,\n",
       "       0.45042621, 0.46325169, 0.497888  , 0.52922201, 0.52661087,\n",
       "       0.50840949, 0.50572153, 0.53275476, 0.5306044 , 0.53098842,\n",
       "       0.53897552, 0.53198678, 0.52154211, 0.52622686, 0.51624296,\n",
       "       0.48944012, 0.49957759, 0.50618231, 0.51048303, 0.52937564,\n",
       "       0.55756087, 0.56032564, 0.55925046, 0.55395131, 0.56547116,\n",
       "       0.57030947, 0.55034174, 0.56155439, 0.55518012, 0.55034174,\n",
       "       0.59718913, 0.59665154, 0.60348665, 0.5878197 , 0.59987708,\n",
       "       0.62790879, 0.6208433 , 0.62859996, 0.6648491 , 0.65087163,\n",
       "       0.64203979, 0.6341295 , 0.60893943, 0.6212272 , 0.58735887,\n",
       "       0.62053604, 0.62921436, 0.60563701, 0.60425468, 0.62030565,\n",
       "       0.60509948, 0.59150602, 0.59680517, 0.62906073, 0.66623143,\n",
       "       0.68312731, 0.71269486, 0.71453807, 0.70609014, 0.66792102,\n",
       "       0.6285232 , 0.64526533, 0.65179329, 0.64372937, 0.67022501,\n",
       "       0.66538663, 0.66653869, 0.65962671, 0.65486521, 0.65286847,\n",
       "       0.65471158, 0.63796945, 0.61992163, 0.61124342, 0.61247212,\n",
       "       0.58275094, 0.58167575, 0.57775899, 0.54427461, 0.54634822,\n",
       "       0.59649797, 0.57599264, 0.55249211, 0.53766989, 0.54757697,\n",
       "       0.50871669, 0.54504259, 0.53651795, 0.55172413, 0.54458182,\n",
       "       0.56731432, 0.57944858, 0.57322787, 0.54074187, 0.53659471,\n",
       "       0.56270639, 0.55617848, 0.53736269, 0.54120264, 0.5459642 ,\n",
       "       0.54734659, 0.53590355, 0.55318333, 0.55971123, 0.58198296,\n",
       "       0.58436371, 0.59734276, 0.61623531, 0.63651025, 0.62299366,\n",
       "       0.64749245, 0.62906073, 0.6480301 , 0.64541896, 0.65064124,\n",
       "       0.63735504, 0.6403502 , 0.62836957, 0.64664777, 0.64971969,\n",
       "       0.64718531, 0.6409646 , 0.64019657, 0.62468325, 0.63297744,\n",
       "       0.59695874, 0.59887878, 0.61147381, 0.61508337, 0.58927884,\n",
       "       0.58205977, 0.55794483, 0.57484065, 0.59388677, 0.58482448,\n",
       "       0.57391904, 0.57269028, 0.59281159, 0.57837339, 0.59119882,\n",
       "       0.58966286, 0.58927884, 0.5772214 , 0.57207588, 0.5695415 ,\n",
       "       0.57553181, 0.56385839, 0.58190614, 0.58198296, 0.58843405,\n",
       "       0.5914292 , 0.58359573, 0.59311879, 0.61715686, 0.61070577,\n",
       "       0.61462248, 0.62721751, 0.61700335, 0.63113434, 0.64403652,\n",
       "       0.64188615, 0.63965903, 0.63735504, 0.65018046, 0.66208433,\n",
       "       0.66692271, 0.66930346, 0.68996241, 0.70578299, 0.72536676,\n",
       "       0.71515248, 0.72951386, 0.72482911, 0.7335842 , 0.76054061,\n",
       "       0.75539509, 0.73934412, 0.70908529, 0.7375009 , 0.73174098,\n",
       "       0.74249291, 0.7560095 , 0.75931191, 0.74226252, 0.72851543,\n",
       "       0.7335842 , 0.73527379, 0.73266265, 0.74679364, 0.74364485,\n",
       "       0.74448964, 0.73742415, 0.73704013, 0.73327705, 0.73527379,\n",
       "       0.75854388, 0.76015671, 0.77567002, 0.76852777, 0.73911374,\n",
       "       0.74172487, 0.75316797, 0.76484145, 0.76415017, 0.75447354,\n",
       "       0.74817596, 0.75631676, 0.79102983, 0.78112281, 0.78634508,\n",
       "       0.79510017, 0.80009217, 0.81844713, 0.80631287, 0.79832583,\n",
       "       0.75915828, 0.76361264, 0.75263032, 0.75961906, 0.75777584,\n",
       "       0.73680974, 0.71284849, 0.71661156, 0.73519703, 0.7427233 ,\n",
       "       0.74341446, 0.73151059, 0.7049382 , 0.71200369, 0.70178941,\n",
       "       0.71062125, 0.68366484, 0.69879425, 0.70562936, 0.71553638,\n",
       "       0.71254122, 0.71185006, 0.70186617, 0.6972583 , 0.71914594,\n",
       "       0.72744025, 0.74057294, 0.75754545, 0.7613854 , 0.76307499,\n",
       "       0.75700792, 0.7566239 , 0.7618463 , 0.75823673, 0.78680598,\n",
       "       0.76553262, 0.75908153, 0.7672222 , 0.77851167, 0.77444133,\n",
       "       0.77689884, 0.77044775, 0.77328927, 0.75109436, 0.75071034,\n",
       "       0.76699182, 0.76706857, 0.77474847, 0.79387147, 0.82750936,\n",
       "       0.84809156, 0.85170112, 0.85469628, 0.85876662, 0.81936868,\n",
       "       0.84571081, 0.88457109, 0.88050075, 0.87274398, 0.85799858,\n",
       "       0.88472472, 0.92972883, 0.95968052, 0.95568694, 0.99324165,\n",
       "       0.96474928, 0.95392059, 0.99208971, 0.93802314, 0.92942169,\n",
       "       0.91874663, 0.94362955, 0.96398124, 0.96889638, 1.        ,\n",
       "       0.99201284, 0.99270412, 0.98364177, 0.97880351])"
      ]
     },
     "execution_count": 33,
     "metadata": {},
     "output_type": "execute_result"
    }
   ],
   "source": [
    "y_test"
   ]
  },
  {
   "cell_type": "code",
   "execution_count": 34,
   "id": "ce118350-0986-4895-a5c1-08db130cffa3",
   "metadata": {},
   "outputs": [
    {
     "data": {
      "text/plain": [
       "array([0.0076799])"
      ]
     },
     "execution_count": 34,
     "metadata": {},
     "output_type": "execute_result"
    }
   ],
   "source": [
    "scaler.scale_"
   ]
  },
  {
   "cell_type": "code",
   "execution_count": 35,
   "id": "a97d6d39-74e6-425c-a530-fb11d25e9e09",
   "metadata": {},
   "outputs": [],
   "source": [
    "scale_factor = 1/0.0076799\n",
    "y_predicted = y_predicted * scale_factor\n",
    "y_test = y_test * scale_factor"
   ]
  },
  {
   "cell_type": "code",
   "execution_count": 36,
   "id": "461fe5c1-9ec7-48bf-bf7f-065c6801bf90",
   "metadata": {},
   "outputs": [
    {
     "data": {
      "image/png": "[encoded data removed]",
      "text/plain": [
       "<Figure size 720x360 with 1 Axes>"
      ]
     },
     "metadata": {
      "needs_background": "light"
     },
     "output_type": "display_data"
    }
   ],
   "source": [
    "plt.figure(figsize=(10,5))\n",
    "plt.plot(y_test, 'b', label = 'Original Price')\n",
    "plt.plot(y_predicted, 'r', label = 'Prediction Price')\n",
    "plt.xlabel('Time')\n",
    "plt.ylabel('Price')\n",
    "plt.legend()\n",
    "plt.show()"
   ]
  },
  {
   "cell_type": "code",
   "execution_count": null,
   "id": "1a049e59-2b13-47cd-b7d5-6a7b5e2b8ed0",
   "metadata": {},
   "outputs": [],
   "source": []
  }
 ],
 "metadata": {
  "kernelspec": {
   "display_name": "Python 3",
   "language": "python",
   "name": "python3"
  },
  "language_info": {
   "codemirror_mode": {
    "name": "ipython",
    "version": 3
   },
   "file_extension": ".py",
   "mimetype": "text/x-python",
   "name": "python",
   "nbconvert_exporter": "python",
   "pygments_lexer": "ipython3",
   "version": "3.6.13"
  }
 },
 "nbformat": 4,
 "nbformat_minor": 5
}
